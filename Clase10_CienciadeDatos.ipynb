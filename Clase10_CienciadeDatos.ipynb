{
 "cells": [
  {
   "cell_type": "markdown",
   "metadata": {
    "id": "MCCsU3GbFHSp"
   },
   "source": [
    "# **Librería Pandas**\n",
    "\n",
    "Pandas es una librería de Python especializada en el manejo y anáisis de estructura de datos. \n",
    "\n",
    "![descarga.png](data:image/png;base64,iVBORw0KGgoAAAANSUhEUgAAAM8AAAB0CAMAAAAVUpbbAAABklBMVEX///8AAACrq6vJycn8/Pzm5ubV1dWzs7P/fwAYaqbc3Nz4+Pi6urq9vb3z8/MWd7YAZ7G1zONZWVk1NTXIxcIjoiOAgIBSUlJGRkZhYWEAarGtx98AmwDZ5fAqfrwwMDCMjIwTExN2dnZsncaYmJjn8PXKwLX/dQBHicAAdrsnJydra2t+qdD/0LC4vsMgICC5w7mMsdS03rQAVKn/3sT/m1jF1N//vIL/iQCg0qDD4sPl9OXB1cEAYK7O586LxoL65OW11cv/9ev/tYnixMVbt13cr7G3aXnqlJPAfo/VVlKTxKZKkbH/x5nsn6JNsE6qpb36xsl4YwBrtIrwnHzzs6m0kqXcmpV1rmDBim1Qp4HQfIOpflqlmGRSpJKQqL/oyLB0vnGLhURuq7WXslq5vc+hp3ThYD7SqljRjX15wIfzo5eUcJLk0aR9mhy3hxRGnCKSkQ6AfqfCsJLOx5GyYl3kdm9knyPSjxfgfwDmuHWbqkKqlh/lUivbgkBUd5zI0at3tqvSo4rOhVT9rWWdgHgcp3HVAAAHe0lEQVR4nO2a+X/aRhbAR2gkUQmGAEaAQUZgTRaQXS/YxcFsbNc51j1s1213t9ke6ZG9t433bJzNJm3T/N/7RgcSBDuGcu5nvj9gYEbmfXmjp5lBCHE4HA6Hw+FwOBzO1MCapo2jz3wgWqlSKa2rl/XRlFS9lDZjZFpBjQzRy4LDRuTiTlrK7SNkxelFNhLShhepkFIu7qXpJb+bOa3IRoL4X/xG5PKhJFV8oUu0Z4/txljW8Su7qllPaI6HnOhGWI9fpbNmub3Tk45qdNz02FctxHJ9vhMkpZ0z/OrXFSk31yXB+b71YY4g7BuoTCqen4oKPuarK0EYqTTkNzBNSE7IDXuMLAiXXHhnjFWWhj7GFIbL6DQhI5SqUY7hcDgLBpZkUX55lk1UUR6+Cs4e0VkR1PsuLprlLPfMS1ev84jir296r/7+smdjwaq0uxYoV2CRE148gGUluwDruH5kN2YLqT0JwrZQwc4cFJj/vZAumhdyHOFSeDkE64NIdxGbn2GAQxLz90REE+IOEgE+adHyN4DkGUY4HJYQohLMN0k23DC/8+o+cCUcthlqscMN1ozCG5pen3Blji2kD6xpAnpP+1KoZWHGW3AxFYRc79xG3gialmYU3fDgvB9z1tXBMGlzm7w9qt46Mfe4G1GCYLs6SjZd3si7Rv6+aH6BrqeQEKViV/xZp+pecVKegahXdH3B5m9AMJxwhOmkF0/hYmJDb2TNN2J21hGMC5JiNcFKs0fFnnU0Y8BKWZatK1nTMrMLtywdhBqLyRiReERckF+0ORwOh8PhcDj/T4iRgUhIHtwgI2INbLjSXU4TBysDNz5UGUUIwsmXGqUYUgevzKe6X6eYFzTgmL9KSDaM4G3wAVGjSrvvaO0djDrtX8SR9PPOoP80VR/rogU1jhHqbo2s3UwGbzs+uJEMFHd3dtt7zY7EfNqD/tO4fTBGkjs8JG+XEBH3iSbBKtT567YTKVi54aVGteU8W7vW56MlDcPx2WcPO2+ig1tIu8187gzaaxy3j2nrubrJdgRzObb5pOTNXIntciobObuSR1jP5Urs/qpKOpfubrbjpdVrhYE+sbu/PHyLqeK3mdA776Kto/Vjx+dkp//D8QR8hAgRy/BxItGUOkGKYBG1rCBZiJFYGXxESVPTMaSkJaJ2f6wCn+V+H63RYD4FA919D16evn8Kjx9U0RH+8FfUyc8XfZ/d2euM34edInoFwhEVRVCRkoXRlTKRxfbWdDbeVCWW15FSV0PDxfPBRAt86M1lCcYb1IL9X8PL33x0D8bnbwut7f3jbef8uXPSVxHaxZPO2H3YjYSRPJbL+YouQDx5CNs2UYX94gvnj5ZPV/ScjbBZ3whuj/d8jM1qI/BZrklOfUP4YzjbPtn99BR1PqP3j473Dz53fDJ7e1+ElHAmU2yO3Yf9lGPayNahEJQDH5PtqpkpJNehOujshSTbpX6fawN90Fv7aP/LTvMQNb9C928dw7Hgc/1BplgshsZcszgJH3CQ0hE2xFAklJ84jD05nUci+EiC7VQ/Rbiiz++O0e3fo+bd03YBXf8D9nz+mAGKe7tNN0edk4nkJ5fKl7IYiUI+lQOfCDxHKR3qmpDPpnOIpHN2KZVHVilvl8P1bdMZbytrmwXfZ/Oa79P6GP2piZqdwz8X0Od/QZ7PGxmHYvGO079dnIiPjuJO2SLwRwrvDaqiWwDEuKYRFlI8mMbguGFoq1W40lDDWF1rVAurq/BM9XzoX/fv7bzxdfNUN9Dhe12fb1yhhw+byBltZ38bv48+0o3Fznxn5aZz3TQS1dXNtZVl6s93gL8f/uOfW+sPOv+S0L8byPd5lMl8c5b5Nho96XSaIPYoev71uH0sc5SjenxWqpTilVrg08H3324+xqj9n6+O794qUN/n/OxJNPrkPBp9CCON6UR/tj6B+c4oRzGfljuPZj4o5IPbe7uF23tHMHn79v7pf7eMBvZ8oo+iT6OM87NM5gx0JuDTEyXGV9xcD+bXL/lI7V28V6APtiBPH22jowNkNAzPJxp9ds8VesjSNGEfjRqt7ikfOvcHOF7sE/vu8Rba+f7NJwfQ1Lq+tc26JFvg8/oP0ejT2sp59LmbJOD52H00g7LICaUaggJFEW1R1w3GIXXWBISyZ1f1UcjB+vbBB+88djyM7R+dPiw/r6/eiOq1mv4iUb0BGWI6iafj9iFGi0KwlBoEU60FHi1MDazB2xi1WiDLepCkRklYqcentkKRVq0G9eBg+7vMuuvj5sf1qb64sZJI1GqJmn7jXuI5DL7aa/LY89MCFaQRAg5OetgVhd33CklpwQsnPxjepBf50GRS83Lp12v8+IlTZgrUKzeuz7MXCQ89UXsGgy+xXBh7fjQ21Bw175ShTuQQB6xiiH8aYUrDmwJhnxDd6w+N01ajkGz4xdP1gdR4wJOa+Qx8klO8Q/OSSv4qH9wowDg2uin1fBIhnBdT9bkErKjSAJbAZ2CDDD6R6msvM+7xNiqqOBAC69yBSEhbGtiwOPdncjgcDofD4XA4HA6Hw+FwOJzF4H8Uoc6F4Y+D+AAAAABJRU5ErkJggg==)"
   ]
  },
  {
   "cell_type": "markdown",
   "metadata": {},
   "source": [
    "**Es muy raro que los datos de los que disponemos estén ya listos para ser usados**. \n",
    "\n",
    "Lo más común es que los datos necesiten ser transformados previamente. Además, incluso antes de estas transformaciones es posible que los datos tengan que ser modificados y corregidos, porque el ingreso manual de datos por parte de seres humanos suele estar acompañado de errores. Una forma de resolver esto es estandarizar lo más posible la clase de datos que el operador puede ingresar, pero aún así es difícil que no hay datos que requieran ser corregidos.\n",
    "\n",
    "En este notebook vamos a cargar y analizar un dataframe \"de juguete\" en el cual aparecen muchos de los errores más comunes que podemos encontrar. La idea es que los corrijamos, para luego estandarizar los datos y dejarlos listos para su análisis posterior.\n",
    "\n",
    "**Empezamos cargando el dataframe.**\n",
    "\n"
   ]
  },
  {
   "cell_type": "code",
   "execution_count": 1,
   "metadata": {
    "id": "ci6eCNx9HENp"
   },
   "outputs": [],
   "source": [
    "import pandas as pd"
   ]
  },
  {
   "cell_type": "code",
   "execution_count": 4,
   "metadata": {},
   "outputs": [
    {
     "ename": "FileNotFoundError",
     "evalue": "[Errno 2] No such file or directory: 'dataframe_clase_10.csv'",
     "output_type": "error",
     "traceback": [
      "\u001b[1;31m---------------------------------------------------------------------------\u001b[0m",
      "\u001b[1;31mFileNotFoundError\u001b[0m                         Traceback (most recent call last)",
      "Cell \u001b[1;32mIn[4], line 1\u001b[0m\n\u001b[1;32m----> 1\u001b[0m arch1 \u001b[38;5;241m=\u001b[39m pd\u001b[38;5;241m.\u001b[39mread_csv(\u001b[38;5;124m'\u001b[39m\u001b[38;5;124mdataframe_clase_10.csv\u001b[39m\u001b[38;5;124m'\u001b[39m)\n",
      "File \u001b[1;32mC:\\ProgramData\\anaconda3\\Lib\\site-packages\\pandas\\io\\parsers\\readers.py:1026\u001b[0m, in \u001b[0;36mread_csv\u001b[1;34m(filepath_or_buffer, sep, delimiter, header, names, index_col, usecols, dtype, engine, converters, true_values, false_values, skipinitialspace, skiprows, skipfooter, nrows, na_values, keep_default_na, na_filter, verbose, skip_blank_lines, parse_dates, infer_datetime_format, keep_date_col, date_parser, date_format, dayfirst, cache_dates, iterator, chunksize, compression, thousands, decimal, lineterminator, quotechar, quoting, doublequote, escapechar, comment, encoding, encoding_errors, dialect, on_bad_lines, delim_whitespace, low_memory, memory_map, float_precision, storage_options, dtype_backend)\u001b[0m\n\u001b[0;32m   1013\u001b[0m kwds_defaults \u001b[38;5;241m=\u001b[39m _refine_defaults_read(\n\u001b[0;32m   1014\u001b[0m     dialect,\n\u001b[0;32m   1015\u001b[0m     delimiter,\n\u001b[1;32m   (...)\u001b[0m\n\u001b[0;32m   1022\u001b[0m     dtype_backend\u001b[38;5;241m=\u001b[39mdtype_backend,\n\u001b[0;32m   1023\u001b[0m )\n\u001b[0;32m   1024\u001b[0m kwds\u001b[38;5;241m.\u001b[39mupdate(kwds_defaults)\n\u001b[1;32m-> 1026\u001b[0m \u001b[38;5;28;01mreturn\u001b[39;00m _read(filepath_or_buffer, kwds)\n",
      "File \u001b[1;32mC:\\ProgramData\\anaconda3\\Lib\\site-packages\\pandas\\io\\parsers\\readers.py:620\u001b[0m, in \u001b[0;36m_read\u001b[1;34m(filepath_or_buffer, kwds)\u001b[0m\n\u001b[0;32m    617\u001b[0m _validate_names(kwds\u001b[38;5;241m.\u001b[39mget(\u001b[38;5;124m\"\u001b[39m\u001b[38;5;124mnames\u001b[39m\u001b[38;5;124m\"\u001b[39m, \u001b[38;5;28;01mNone\u001b[39;00m))\n\u001b[0;32m    619\u001b[0m \u001b[38;5;66;03m# Create the parser.\u001b[39;00m\n\u001b[1;32m--> 620\u001b[0m parser \u001b[38;5;241m=\u001b[39m TextFileReader(filepath_or_buffer, \u001b[38;5;241m*\u001b[39m\u001b[38;5;241m*\u001b[39mkwds)\n\u001b[0;32m    622\u001b[0m \u001b[38;5;28;01mif\u001b[39;00m chunksize \u001b[38;5;129;01mor\u001b[39;00m iterator:\n\u001b[0;32m    623\u001b[0m     \u001b[38;5;28;01mreturn\u001b[39;00m parser\n",
      "File \u001b[1;32mC:\\ProgramData\\anaconda3\\Lib\\site-packages\\pandas\\io\\parsers\\readers.py:1620\u001b[0m, in \u001b[0;36mTextFileReader.__init__\u001b[1;34m(self, f, engine, **kwds)\u001b[0m\n\u001b[0;32m   1617\u001b[0m     \u001b[38;5;28mself\u001b[39m\u001b[38;5;241m.\u001b[39moptions[\u001b[38;5;124m\"\u001b[39m\u001b[38;5;124mhas_index_names\u001b[39m\u001b[38;5;124m\"\u001b[39m] \u001b[38;5;241m=\u001b[39m kwds[\u001b[38;5;124m\"\u001b[39m\u001b[38;5;124mhas_index_names\u001b[39m\u001b[38;5;124m\"\u001b[39m]\n\u001b[0;32m   1619\u001b[0m \u001b[38;5;28mself\u001b[39m\u001b[38;5;241m.\u001b[39mhandles: IOHandles \u001b[38;5;241m|\u001b[39m \u001b[38;5;28;01mNone\u001b[39;00m \u001b[38;5;241m=\u001b[39m \u001b[38;5;28;01mNone\u001b[39;00m\n\u001b[1;32m-> 1620\u001b[0m \u001b[38;5;28mself\u001b[39m\u001b[38;5;241m.\u001b[39m_engine \u001b[38;5;241m=\u001b[39m \u001b[38;5;28mself\u001b[39m\u001b[38;5;241m.\u001b[39m_make_engine(f, \u001b[38;5;28mself\u001b[39m\u001b[38;5;241m.\u001b[39mengine)\n",
      "File \u001b[1;32mC:\\ProgramData\\anaconda3\\Lib\\site-packages\\pandas\\io\\parsers\\readers.py:1880\u001b[0m, in \u001b[0;36mTextFileReader._make_engine\u001b[1;34m(self, f, engine)\u001b[0m\n\u001b[0;32m   1878\u001b[0m     \u001b[38;5;28;01mif\u001b[39;00m \u001b[38;5;124m\"\u001b[39m\u001b[38;5;124mb\u001b[39m\u001b[38;5;124m\"\u001b[39m \u001b[38;5;129;01mnot\u001b[39;00m \u001b[38;5;129;01min\u001b[39;00m mode:\n\u001b[0;32m   1879\u001b[0m         mode \u001b[38;5;241m+\u001b[39m\u001b[38;5;241m=\u001b[39m \u001b[38;5;124m\"\u001b[39m\u001b[38;5;124mb\u001b[39m\u001b[38;5;124m\"\u001b[39m\n\u001b[1;32m-> 1880\u001b[0m \u001b[38;5;28mself\u001b[39m\u001b[38;5;241m.\u001b[39mhandles \u001b[38;5;241m=\u001b[39m get_handle(\n\u001b[0;32m   1881\u001b[0m     f,\n\u001b[0;32m   1882\u001b[0m     mode,\n\u001b[0;32m   1883\u001b[0m     encoding\u001b[38;5;241m=\u001b[39m\u001b[38;5;28mself\u001b[39m\u001b[38;5;241m.\u001b[39moptions\u001b[38;5;241m.\u001b[39mget(\u001b[38;5;124m\"\u001b[39m\u001b[38;5;124mencoding\u001b[39m\u001b[38;5;124m\"\u001b[39m, \u001b[38;5;28;01mNone\u001b[39;00m),\n\u001b[0;32m   1884\u001b[0m     compression\u001b[38;5;241m=\u001b[39m\u001b[38;5;28mself\u001b[39m\u001b[38;5;241m.\u001b[39moptions\u001b[38;5;241m.\u001b[39mget(\u001b[38;5;124m\"\u001b[39m\u001b[38;5;124mcompression\u001b[39m\u001b[38;5;124m\"\u001b[39m, \u001b[38;5;28;01mNone\u001b[39;00m),\n\u001b[0;32m   1885\u001b[0m     memory_map\u001b[38;5;241m=\u001b[39m\u001b[38;5;28mself\u001b[39m\u001b[38;5;241m.\u001b[39moptions\u001b[38;5;241m.\u001b[39mget(\u001b[38;5;124m\"\u001b[39m\u001b[38;5;124mmemory_map\u001b[39m\u001b[38;5;124m\"\u001b[39m, \u001b[38;5;28;01mFalse\u001b[39;00m),\n\u001b[0;32m   1886\u001b[0m     is_text\u001b[38;5;241m=\u001b[39mis_text,\n\u001b[0;32m   1887\u001b[0m     errors\u001b[38;5;241m=\u001b[39m\u001b[38;5;28mself\u001b[39m\u001b[38;5;241m.\u001b[39moptions\u001b[38;5;241m.\u001b[39mget(\u001b[38;5;124m\"\u001b[39m\u001b[38;5;124mencoding_errors\u001b[39m\u001b[38;5;124m\"\u001b[39m, \u001b[38;5;124m\"\u001b[39m\u001b[38;5;124mstrict\u001b[39m\u001b[38;5;124m\"\u001b[39m),\n\u001b[0;32m   1888\u001b[0m     storage_options\u001b[38;5;241m=\u001b[39m\u001b[38;5;28mself\u001b[39m\u001b[38;5;241m.\u001b[39moptions\u001b[38;5;241m.\u001b[39mget(\u001b[38;5;124m\"\u001b[39m\u001b[38;5;124mstorage_options\u001b[39m\u001b[38;5;124m\"\u001b[39m, \u001b[38;5;28;01mNone\u001b[39;00m),\n\u001b[0;32m   1889\u001b[0m )\n\u001b[0;32m   1890\u001b[0m \u001b[38;5;28;01massert\u001b[39;00m \u001b[38;5;28mself\u001b[39m\u001b[38;5;241m.\u001b[39mhandles \u001b[38;5;129;01mis\u001b[39;00m \u001b[38;5;129;01mnot\u001b[39;00m \u001b[38;5;28;01mNone\u001b[39;00m\n\u001b[0;32m   1891\u001b[0m f \u001b[38;5;241m=\u001b[39m \u001b[38;5;28mself\u001b[39m\u001b[38;5;241m.\u001b[39mhandles\u001b[38;5;241m.\u001b[39mhandle\n",
      "File \u001b[1;32mC:\\ProgramData\\anaconda3\\Lib\\site-packages\\pandas\\io\\common.py:873\u001b[0m, in \u001b[0;36mget_handle\u001b[1;34m(path_or_buf, mode, encoding, compression, memory_map, is_text, errors, storage_options)\u001b[0m\n\u001b[0;32m    868\u001b[0m \u001b[38;5;28;01melif\u001b[39;00m \u001b[38;5;28misinstance\u001b[39m(handle, \u001b[38;5;28mstr\u001b[39m):\n\u001b[0;32m    869\u001b[0m     \u001b[38;5;66;03m# Check whether the filename is to be opened in binary mode.\u001b[39;00m\n\u001b[0;32m    870\u001b[0m     \u001b[38;5;66;03m# Binary mode does not support 'encoding' and 'newline'.\u001b[39;00m\n\u001b[0;32m    871\u001b[0m     \u001b[38;5;28;01mif\u001b[39;00m ioargs\u001b[38;5;241m.\u001b[39mencoding \u001b[38;5;129;01mand\u001b[39;00m \u001b[38;5;124m\"\u001b[39m\u001b[38;5;124mb\u001b[39m\u001b[38;5;124m\"\u001b[39m \u001b[38;5;129;01mnot\u001b[39;00m \u001b[38;5;129;01min\u001b[39;00m ioargs\u001b[38;5;241m.\u001b[39mmode:\n\u001b[0;32m    872\u001b[0m         \u001b[38;5;66;03m# Encoding\u001b[39;00m\n\u001b[1;32m--> 873\u001b[0m         handle \u001b[38;5;241m=\u001b[39m \u001b[38;5;28mopen\u001b[39m(\n\u001b[0;32m    874\u001b[0m             handle,\n\u001b[0;32m    875\u001b[0m             ioargs\u001b[38;5;241m.\u001b[39mmode,\n\u001b[0;32m    876\u001b[0m             encoding\u001b[38;5;241m=\u001b[39mioargs\u001b[38;5;241m.\u001b[39mencoding,\n\u001b[0;32m    877\u001b[0m             errors\u001b[38;5;241m=\u001b[39merrors,\n\u001b[0;32m    878\u001b[0m             newline\u001b[38;5;241m=\u001b[39m\u001b[38;5;124m\"\u001b[39m\u001b[38;5;124m\"\u001b[39m,\n\u001b[0;32m    879\u001b[0m         )\n\u001b[0;32m    880\u001b[0m     \u001b[38;5;28;01melse\u001b[39;00m:\n\u001b[0;32m    881\u001b[0m         \u001b[38;5;66;03m# Binary mode\u001b[39;00m\n\u001b[0;32m    882\u001b[0m         handle \u001b[38;5;241m=\u001b[39m \u001b[38;5;28mopen\u001b[39m(handle, ioargs\u001b[38;5;241m.\u001b[39mmode)\n",
      "\u001b[1;31mFileNotFoundError\u001b[0m: [Errno 2] No such file or directory: 'dataframe_clase_10.csv'"
     ]
    }
   ],
   "source": [
    "arch1 = pd.read_csv('dataframe_clase_10.csv')"
   ]
  },
  {
   "cell_type": "code",
   "execution_count": null,
   "metadata": {},
   "outputs": [],
   "source": [
    "arch1"
   ]
  },
  {
   "cell_type": "code",
   "execution_count": null,
   "metadata": {},
   "outputs": [],
   "source": [
    "# Eliminamos los NA - Elimina la fila que contiene un valor NaN\n",
    "arch1.dropna(inplace=True)"
   ]
  },
  {
   "cell_type": "code",
   "execution_count": null,
   "metadata": {},
   "outputs": [],
   "source": [
    "arch1"
   ]
  },
  {
   "cell_type": "code",
   "execution_count": null,
   "metadata": {},
   "outputs": [],
   "source": [
    "# Intentemos recorrer el archivo con el ciclo for \n",
    "# Primera manera: Con los valores de una de las columnas\n",
    "for obs in arch1[' Observación '] :\n",
    "    print(obs)"
   ]
  },
  {
   "cell_type": "code",
   "execution_count": null,
   "metadata": {},
   "outputs": [],
   "source": [
    "# Segunda manera: Con los valores del índice\n",
    "for i in range(len(arch1[' Observación '])) :\n",
    "    print(arch1.loc[i,' Observación '])"
   ]
  },
  {
   "cell_type": "code",
   "execution_count": null,
   "metadata": {},
   "outputs": [],
   "source": [
    "# Aparece un error ¿A qué se debe?\n",
    "# Debemos darnos cuenta que el error se produce al intentar acceder al índice 9\n",
    "\n",
    "# Para solución estos problemas podemos resetear el índice para que comience nuevamente de 0 \n",
    "# hasta el último elemento\n",
    "arch1.reset_index()"
   ]
  },
  {
   "cell_type": "code",
   "execution_count": null,
   "metadata": {},
   "outputs": [],
   "source": [
    "arch1"
   ]
  },
  {
   "cell_type": "code",
   "execution_count": null,
   "metadata": {},
   "outputs": [],
   "source": [
    "for i in range(len(arch1[' Observación '])) :\n",
    "    print(f\"Valor: '{arch1.loc[i,' Observación ']}'\")"
   ]
  },
  {
   "cell_type": "markdown",
   "metadata": {},
   "source": [
    "## Uso de funciones `apply` y `applymap`\n",
    "Esto nos ayuda a utilizar las funcionalidades iterables que poseen los dataframe\n",
    "- `df['columna'].apply(<función>)` Se aplica sobre las Series o cada columna de un dataframe\n",
    "- `df.applymap(<función>)` Se aplica sobre cada elemento del dataframe"
   ]
  },
  {
   "cell_type": "markdown",
   "metadata": {},
   "source": [
    "### Ejercicio 1: Quitemos todos los espacios a la columna Observación del dataframe\n",
    "Se nos entrega la función `remueve_espacio()`"
   ]
  },
  {
   "cell_type": "code",
   "execution_count": null,
   "metadata": {},
   "outputs": [],
   "source": [
    "def remueve_espacio(x):\n",
    "  if type(x)==str:\n",
    "    return x.lstrip().rstrip()\n",
    "  else:\n",
    "    return x"
   ]
  },
  {
   "cell_type": "code",
   "execution_count": null,
   "metadata": {},
   "outputs": [],
   "source": [
    "# Solucion\n"
   ]
  },
  {
   "cell_type": "markdown",
   "metadata": {},
   "source": [
    "### Ejercicio 2: Quitemos todos los espacios en los nombres de las columnas\n",
    "Se nos entrega la función `remueve_espacio()`"
   ]
  },
  {
   "cell_type": "code",
   "execution_count": null,
   "metadata": {},
   "outputs": [],
   "source": [
    "# Solucion\n"
   ]
  },
  {
   "cell_type": "markdown",
   "metadata": {},
   "source": [
    "### Ejercicio 3: Quitemos todos los espacios de todas las columnas\n",
    "Se nos entrega la función `remueve_espacio()`"
   ]
  },
  {
   "cell_type": "code",
   "execution_count": null,
   "metadata": {},
   "outputs": [],
   "source": [
    "# Solucion\n"
   ]
  },
  {
   "cell_type": "markdown",
   "metadata": {},
   "source": [
    "### Ejercicio 4: Transforme las columnas que no son numéricas a numéricas\n",
    "Se nos entrega la función `remueve_caracteres()`"
   ]
  },
  {
   "cell_type": "markdown",
   "metadata": {},
   "source": [
    "#### Función que remueve caracteres y sólo deja los caracteres que son numéricos o puntos"
   ]
  },
  {
   "cell_type": "code",
   "execution_count": null,
   "metadata": {},
   "outputs": [],
   "source": [
    "def remueve_caracteres(x): # esta función remueve todos los caracteres, dejando únicamente números.\n",
    "  if type(x)==str:\n",
    "    return ''.join(c for c in x if c.isdigit() or c=='.') # list comprehension\n",
    "  else:\n",
    "    return x"
   ]
  },
  {
   "cell_type": "code",
   "execution_count": null,
   "metadata": {},
   "outputs": [],
   "source": [
    "# Solucion\n"
   ]
  },
  {
   "cell_type": "markdown",
   "metadata": {},
   "source": [
    "### Ejercicio 5: Eliminar los Nan y los nan no reales, pero NaN\n"
   ]
  },
  {
   "cell_type": "code",
   "execution_count": null,
   "metadata": {},
   "outputs": [],
   "source": [
    "# Solucion\n"
   ]
  },
  {
   "cell_type": "code",
   "execution_count": null,
   "metadata": {},
   "outputs": [],
   "source": []
  }
 ],
 "metadata": {
  "colab": {
   "provenance": []
  },
  "kernelspec": {
   "display_name": "Python 3 (ipykernel)",
   "language": "python",
   "name": "python3"
  },
  "language_info": {
   "codemirror_mode": {
    "name": "ipython",
    "version": 3
   },
   "file_extension": ".py",
   "mimetype": "text/x-python",
   "name": "python",
   "nbconvert_exporter": "python",
   "pygments_lexer": "ipython3",
   "version": "3.12.4"
  }
 },
 "nbformat": 4,
 "nbformat_minor": 4
}
